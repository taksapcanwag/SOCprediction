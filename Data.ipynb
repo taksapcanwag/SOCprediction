{
 "cells": [
  {
   "cell_type": "code",
   "execution_count": 3,
   "metadata": {},
   "outputs": [
    {
     "ename": "ModuleNotFoundError",
     "evalue": "No module named 'google.colab'",
     "output_type": "error",
     "traceback": [
      "\u001b[0;31m---------------------------------------------------------------------------\u001b[0m",
      "\u001b[0;31mModuleNotFoundError\u001b[0m                       Traceback (most recent call last)",
      "Cell \u001b[0;32mIn[3], line 2\u001b[0m\n\u001b[1;32m      1\u001b[0m \u001b[39m# Connect to google drive\u001b[39;00m\n\u001b[0;32m----> 2\u001b[0m \u001b[39mfrom\u001b[39;00m \u001b[39mgoogle\u001b[39;00m\u001b[39m.\u001b[39;00m\u001b[39mcolab\u001b[39;00m \u001b[39mimport\u001b[39;00m drive\n\u001b[1;32m      3\u001b[0m drive\u001b[39m.\u001b[39mmount(\u001b[39m'\u001b[39m\u001b[39m/content/drive\u001b[39m\u001b[39m'\u001b[39m)\n",
      "\u001b[0;31mModuleNotFoundError\u001b[0m: No module named 'google.colab'"
     ]
    }
   ],
   "source": [
    "# Connect to google drive\n",
    "from google.colab import drive\n",
    "drive.mount('/content/drive')"
   ]
  },
  {
   "cell_type": "code",
   "execution_count": 4,
   "id": "655c7dd9",
   "metadata": {},
   "outputs": [
    {
     "ename": "ModuleNotFoundError",
     "evalue": "No module named 'google.colab'",
     "output_type": "error",
     "traceback": [
      "\u001b[0;31m---------------------------------------------------------------------------\u001b[0m",
      "\u001b[0;31mModuleNotFoundError\u001b[0m                       Traceback (most recent call last)",
      "Cell \u001b[0;32mIn[4], line 2\u001b[0m\n\u001b[1;32m      1\u001b[0m \u001b[39m# Cloud authentication\u001b[39;00m\n\u001b[0;32m----> 2\u001b[0m \u001b[39mfrom\u001b[39;00m \u001b[39mgoogle\u001b[39;00m\u001b[39m.\u001b[39;00m\u001b[39mcolab\u001b[39;00m \u001b[39mimport\u001b[39;00m auth\n\u001b[1;32m      3\u001b[0m auth\u001b[39m.\u001b[39mauthenticate_user()\n",
      "\u001b[0;31mModuleNotFoundError\u001b[0m: No module named 'google.colab'"
     ]
    }
   ],
   "source": [
    "# Cloud authentication\n",
    "from google.colab import auth\n",
    "auth.authenticate_user()"
   ]
  },
  {
   "cell_type": "code",
   "execution_count": 5,
   "id": "5e645053",
   "metadata": {},
   "outputs": [
    {
     "ename": "ModuleNotFoundError",
     "evalue": "No module named 'StringIO'",
     "output_type": "error",
     "traceback": [
      "\u001b[0;31m---------------------------------------------------------------------------\u001b[0m",
      "\u001b[0;31mModuleNotFoundError\u001b[0m                       Traceback (most recent call last)",
      "Cell \u001b[0;32mIn[5], line 2\u001b[0m\n\u001b[1;32m      1\u001b[0m \u001b[39m# Import, authenticate and initialize the Earth Engine library\u001b[39;00m\n\u001b[0;32m----> 2\u001b[0m \u001b[39mimport\u001b[39;00m \u001b[39mee\u001b[39;00m\n\u001b[1;32m      3\u001b[0m ee\u001b[39m.\u001b[39mAuthenticate()\n\u001b[1;32m      4\u001b[0m ee\u001b[39m.\u001b[39mInitialize()\n",
      "File \u001b[0;32m~/.local/lib/python3.8/site-packages/ee/__init__.py:1\u001b[0m\n\u001b[0;32m----> 1\u001b[0m \u001b[39mfrom\u001b[39;00m \u001b[39m.\u001b[39;00m\u001b[39mmain\u001b[39;00m \u001b[39mimport\u001b[39;00m main\n",
      "File \u001b[0;32m~/.local/lib/python3.8/site-packages/ee/main.py:10\u001b[0m\n\u001b[1;32m      8\u001b[0m \u001b[39mimport\u001b[39;00m \u001b[39mstat\u001b[39;00m\n\u001b[1;32m      9\u001b[0m \u001b[39mimport\u001b[39;00m \u001b[39mplistlib\u001b[39;00m\n\u001b[0;32m---> 10\u001b[0m \u001b[39mimport\u001b[39;00m \u001b[39mStringIO\u001b[39;00m\n\u001b[1;32m     11\u001b[0m \u001b[39mimport\u001b[39;00m \u001b[39mplatform\u001b[39;00m\n\u001b[1;32m     12\u001b[0m \u001b[39mimport\u001b[39;00m \u001b[39mtime\u001b[39;00m\n",
      "\u001b[0;31mModuleNotFoundError\u001b[0m: No module named 'StringIO'"
     ]
    }
   ],
   "source": [
    "# Import, authenticate and initialize the Earth Engine library\n",
    "import ee\n",
    "ee.Authenticate()\n",
    "ee.Initialize()"
   ]
  },
  {
   "cell_type": "code",
   "execution_count": 6,
   "id": "824345d5",
   "metadata": {},
   "outputs": [],
   "source": [
    "# Import modules\n",
    "import pandas as pd"
   ]
  },
  {
   "cell_type": "code",
   "execution_count": null,
   "id": "42a89268",
   "metadata": {},
   "outputs": [],
   "source": [
    "csv_path = '/content/drive/My Drive/SOC_LDSF.csv'\n",
    "df = pd.read_csv(csv_path)\n",
    "df.vegstructure = pd.Categorical(df.vegstructure)\n",
    "df.vegstructure = df.vegstructure.astype('category').cat.codes + 1\n",
    "df"
   ]
  },
  {
   "cell_type": "code",
   "execution_count": null,
   "id": "4c02f0a4",
   "metadata": {},
   "outputs": [],
   "source": [
    "def cloudMask(image):\n",
    "  \n",
    "  qa = image.select('QA_PIXEL')\n",
    "  dilated = 1 << 1\n",
    "  cirrus = 1 << 2\n",
    "  cloud = 1 << 3\n",
    "  shadow = 1 << 4\n",
    "\n",
    "  mask = ((qa.bitwise_and(dilated) == 0) & (qa.bitwise_and(cirrus) == 0) & (qa.bitwise_and(cloud) == 0) & (qa.bitwise_and(shadow) == 0))\n",
    "\n",
    "  SR = image.select('SR_B.').multiply(0.0000275).add(-0.2)\n",
    "  image = image.select('ST_B.*').multiply(0.00341802).add(149.0)\n",
    "  image = image.addBands(SR, None, True)\n",
    "    \n",
    "  return image.updateMask(mask)\n",
    "\n",
    "def addEVI(image):\n",
    "  evi = image.expression( '2.5 * ( (NIR-RED) / (NIR + 6*RED - 7.5*BLUE + 1))', {\n",
    "      'NIR': image.select('SR_B5'),\n",
    "      'RED': image.select('SR_B4'),\n",
    "      'BLUE': image.select('SR_B2'),\n",
    "      }).rename('EVI')\n",
    "  return image.addBands(evi)\n",
    "\n",
    "def get_landsat(lat, lon, start, end):\n",
    "  point = ee.Geometry.Point(lon, lat)\n",
    "  landsat8 = ee.ImageCollection(\"LANDSAT/LC08/C02/T1_L2\").filterDate(start, end).filterBounds(point)\n",
    "  landsat9 = ee.ImageCollection(\"LANDSAT/LC09/C02/T1_L2\").filterDate(start, end).filterBounds(point)\n",
    "  landsat = landsat8.merge(landsat9).map(cloudMask).map(addEVI).median().select(['SR_B2', 'SR_B3', 'SR_B4', 'SR_B5', 'SR_B6', 'SR_B7', 'EVI', 'ST_B10'])\n",
    "\n",
    "  median = landsat.reduceRegion(\n",
    "        reducer=ee.Reducer.median(),\n",
    "        geometry=point,\n",
    "        scale=30\n",
    "    )\n",
    "\n",
    "  return median"
   ]
  },
  {
   "cell_type": "code",
   "execution_count": null,
   "id": "64e800d4",
   "metadata": {},
   "outputs": [],
   "source": [
    "dataframe = pd.DataFrame(columns=['latitude', 'longitude', 'year', 'vegstructure', 'SOC', 'SR_B2', 'SR_B3', 'SR_B4', 'SR_B5', 'SR_B6', 'SR_B7', 'EVI', 'ST_B10'])\n",
    "\n",
    "for i in range(len(df)):\n",
    "  print(i)\n",
    "  for j in range(8):\n",
    "    elem = get_landsat(df.iloc[i, 0], df.iloc[i, 1], \n",
    "                       ee.Date(str(df.iloc[i, 2]) + '-01-01').advance(-1, 'year').advance(3*j, 'month'), \n",
    "                       ee.Date(str(df.iloc[i, 2]), '-03-31').advance(-1, 'year').advance(3*j, 'month'))\n",
    "\n",
    "    newRow = pd.Series( df.iloc[i, :5].to_list() + [ elem.get('SR_B2'), elem.get('SR_B3'), elem.get('SR_B4'), elem.get('SR_B5'), elem.get('SR_B6'), elem.get('SR_B7'), elem.get('EVI'), elem.get('ST_B10')],\n",
    "                       index=dataframe.columns )\n",
    "    dataframe = dataframe.append(newRow, ignore_index=True)\n",
    "dataframe"
   ]
  },
  {
   "cell_type": "code",
   "execution_count": null,
   "id": "709c2aa3",
   "metadata": {},
   "outputs": [],
   "source": [
    "dataframe[dataframe.isna().any(axis=1)]"
   ]
  },
  {
   "cell_type": "code",
   "execution_count": null,
   "id": "27c3fdf5",
   "metadata": {},
   "outputs": [],
   "source": [
    "dataframe.to_csv('/content/drive/My Drive/SOClandsat.csv', index=False)"
   ]
  }
 ],
 "metadata": {
  "kernelspec": {
   "display_name": "Python 3",
   "language": "python",
   "name": "python3"
  },
  "language_info": {
   "codemirror_mode": {
    "name": "ipython",
    "version": 3
   },
   "file_extension": ".py",
   "mimetype": "text/x-python",
   "name": "python",
   "nbconvert_exporter": "python",
   "pygments_lexer": "ipython3",
   "version": "3.8.10"
  }
 },
 "nbformat": 4,
 "nbformat_minor": 5
}
